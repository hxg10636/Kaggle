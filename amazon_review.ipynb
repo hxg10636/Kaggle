{
 "cells": [
  {
   "cell_type": "code",
   "execution_count": 1,
   "metadata": {
    "executionInfo": {
     "elapsed": 587,
     "status": "ok",
     "timestamp": 1647384525453,
     "user": {
      "displayName": "Dennis Wong",
      "photoUrl": "https://lh3.googleusercontent.com/a-/AOh14Ggg69ZOTaAyWErmlR6xHm6FE3BMb8oIjATDFVku=s64",
      "userId": "03509281832183460896"
     },
     "user_tz": 240
    },
    "id": "dQlZpYIJAvSg"
   },
   "outputs": [],
   "source": [
    "import pandas as pd\n",
    "import numpy as np\n",
    "import pickle"
   ]
  },
  {
   "cell_type": "code",
   "execution_count": 2,
   "metadata": {
    "executionInfo": {
     "elapsed": 4228,
     "status": "ok",
     "timestamp": 1647384531694,
     "user": {
      "displayName": "Dennis Wong",
      "photoUrl": "https://lh3.googleusercontent.com/a-/AOh14Ggg69ZOTaAyWErmlR6xHm6FE3BMb8oIjATDFVku=s64",
      "userId": "03509281832183460896"
     },
     "user_tz": 240
    },
    "id": "_ldCukY0AvSi"
   },
   "outputs": [],
   "source": [
    "df = pd.read_csv('Reviews.csv',delimiter=',')"
   ]
  },
  {
   "cell_type": "code",
   "execution_count": 3,
   "metadata": {
    "colab": {
     "base_uri": "https://localhost:8080/",
     "height": 206
    },
    "executionInfo": {
     "elapsed": 3,
     "status": "ok",
     "timestamp": 1647384533488,
     "user": {
      "displayName": "Dennis Wong",
      "photoUrl": "https://lh3.googleusercontent.com/a-/AOh14Ggg69ZOTaAyWErmlR6xHm6FE3BMb8oIjATDFVku=s64",
      "userId": "03509281832183460896"
     },
     "user_tz": 240
    },
    "id": "8NedY5aGAvSk",
    "outputId": "ea06e385-6839-4d73-dcae-f5db79570c59"
   },
   "outputs": [
    {
     "data": {
      "text/html": [
       "<div>\n",
       "<style scoped>\n",
       "    .dataframe tbody tr th:only-of-type {\n",
       "        vertical-align: middle;\n",
       "    }\n",
       "\n",
       "    .dataframe tbody tr th {\n",
       "        vertical-align: top;\n",
       "    }\n",
       "\n",
       "    .dataframe thead th {\n",
       "        text-align: right;\n",
       "    }\n",
       "</style>\n",
       "<table border=\"1\" class=\"dataframe\">\n",
       "  <thead>\n",
       "    <tr style=\"text-align: right;\">\n",
       "      <th></th>\n",
       "      <th>Id</th>\n",
       "      <th>ProductId</th>\n",
       "      <th>UserId</th>\n",
       "      <th>ProfileName</th>\n",
       "      <th>HelpfulnessNumerator</th>\n",
       "      <th>HelpfulnessDenominator</th>\n",
       "      <th>Score</th>\n",
       "      <th>Time</th>\n",
       "      <th>Summary</th>\n",
       "      <th>Text</th>\n",
       "    </tr>\n",
       "  </thead>\n",
       "  <tbody>\n",
       "    <tr>\n",
       "      <th>0</th>\n",
       "      <td>1</td>\n",
       "      <td>B001E4KFG0</td>\n",
       "      <td>A3SGXH7AUHU8GW</td>\n",
       "      <td>delmartian</td>\n",
       "      <td>1</td>\n",
       "      <td>1</td>\n",
       "      <td>5</td>\n",
       "      <td>1303862400</td>\n",
       "      <td>Good Quality Dog Food</td>\n",
       "      <td>I have bought several of the Vitality canned d...</td>\n",
       "    </tr>\n",
       "    <tr>\n",
       "      <th>1</th>\n",
       "      <td>2</td>\n",
       "      <td>B00813GRG4</td>\n",
       "      <td>A1D87F6ZCVE5NK</td>\n",
       "      <td>dll pa</td>\n",
       "      <td>0</td>\n",
       "      <td>0</td>\n",
       "      <td>1</td>\n",
       "      <td>1346976000</td>\n",
       "      <td>Not as Advertised</td>\n",
       "      <td>Product arrived labeled as Jumbo Salted Peanut...</td>\n",
       "    </tr>\n",
       "    <tr>\n",
       "      <th>2</th>\n",
       "      <td>3</td>\n",
       "      <td>B000LQOCH0</td>\n",
       "      <td>ABXLMWJIXXAIN</td>\n",
       "      <td>Natalia Corres \"Natalia Corres\"</td>\n",
       "      <td>1</td>\n",
       "      <td>1</td>\n",
       "      <td>4</td>\n",
       "      <td>1219017600</td>\n",
       "      <td>\"Delight\" says it all</td>\n",
       "      <td>This is a confection that has been around a fe...</td>\n",
       "    </tr>\n",
       "    <tr>\n",
       "      <th>3</th>\n",
       "      <td>4</td>\n",
       "      <td>B000UA0QIQ</td>\n",
       "      <td>A395BORC6FGVXV</td>\n",
       "      <td>Karl</td>\n",
       "      <td>3</td>\n",
       "      <td>3</td>\n",
       "      <td>2</td>\n",
       "      <td>1307923200</td>\n",
       "      <td>Cough Medicine</td>\n",
       "      <td>If you are looking for the secret ingredient i...</td>\n",
       "    </tr>\n",
       "    <tr>\n",
       "      <th>4</th>\n",
       "      <td>5</td>\n",
       "      <td>B006K2ZZ7K</td>\n",
       "      <td>A1UQRSCLF8GW1T</td>\n",
       "      <td>Michael D. Bigham \"M. Wassir\"</td>\n",
       "      <td>0</td>\n",
       "      <td>0</td>\n",
       "      <td>5</td>\n",
       "      <td>1350777600</td>\n",
       "      <td>Great taffy</td>\n",
       "      <td>Great taffy at a great price.  There was a wid...</td>\n",
       "    </tr>\n",
       "  </tbody>\n",
       "</table>\n",
       "</div>"
      ],
      "text/plain": [
       "   Id   ProductId          UserId                      ProfileName  \\\n",
       "0   1  B001E4KFG0  A3SGXH7AUHU8GW                       delmartian   \n",
       "1   2  B00813GRG4  A1D87F6ZCVE5NK                           dll pa   \n",
       "2   3  B000LQOCH0   ABXLMWJIXXAIN  Natalia Corres \"Natalia Corres\"   \n",
       "3   4  B000UA0QIQ  A395BORC6FGVXV                             Karl   \n",
       "4   5  B006K2ZZ7K  A1UQRSCLF8GW1T    Michael D. Bigham \"M. Wassir\"   \n",
       "\n",
       "   HelpfulnessNumerator  HelpfulnessDenominator  Score        Time  \\\n",
       "0                     1                       1      5  1303862400   \n",
       "1                     0                       0      1  1346976000   \n",
       "2                     1                       1      4  1219017600   \n",
       "3                     3                       3      2  1307923200   \n",
       "4                     0                       0      5  1350777600   \n",
       "\n",
       "                 Summary                                               Text  \n",
       "0  Good Quality Dog Food  I have bought several of the Vitality canned d...  \n",
       "1      Not as Advertised  Product arrived labeled as Jumbo Salted Peanut...  \n",
       "2  \"Delight\" says it all  This is a confection that has been around a fe...  \n",
       "3         Cough Medicine  If you are looking for the secret ingredient i...  \n",
       "4            Great taffy  Great taffy at a great price.  There was a wid...  "
      ]
     },
     "execution_count": 3,
     "metadata": {},
     "output_type": "execute_result"
    }
   ],
   "source": [
    "df.head()"
   ]
  },
  {
   "cell_type": "code",
   "execution_count": 4,
   "metadata": {
    "colab": {
     "base_uri": "https://localhost:8080/"
    },
    "executionInfo": {
     "elapsed": 2,
     "status": "ok",
     "timestamp": 1647384534728,
     "user": {
      "displayName": "Dennis Wong",
      "photoUrl": "https://lh3.googleusercontent.com/a-/AOh14Ggg69ZOTaAyWErmlR6xHm6FE3BMb8oIjATDFVku=s64",
      "userId": "03509281832183460896"
     },
     "user_tz": 240
    },
    "id": "aykD_nXMAvSn",
    "outputId": "16863de7-cbd1-4017-d1ec-76d42d1b8212",
    "scrolled": true
   },
   "outputs": [
    {
     "data": {
      "text/plain": [
       "(568454, 10)"
      ]
     },
     "execution_count": 4,
     "metadata": {},
     "output_type": "execute_result"
    }
   ],
   "source": [
    "df.shape # data shape"
   ]
  },
  {
   "cell_type": "code",
   "execution_count": 5,
   "metadata": {
    "colab": {
     "base_uri": "https://localhost:8080/"
    },
    "executionInfo": {
     "elapsed": 1566,
     "status": "ok",
     "timestamp": 1647384537180,
     "user": {
      "displayName": "Dennis Wong",
      "photoUrl": "https://lh3.googleusercontent.com/a-/AOh14Ggg69ZOTaAyWErmlR6xHm6FE3BMb8oIjATDFVku=s64",
      "userId": "03509281832183460896"
     },
     "user_tz": 240
    },
    "id": "WGUDkk49AvSp",
    "outputId": "87080cfa-cad3-4fb2-fbb1-f9f87926fddd",
    "scrolled": false
   },
   "outputs": [
    {
     "data": {
      "text/plain": [
       "Id                        568454\n",
       "ProductId                  74258\n",
       "UserId                    256059\n",
       "ProfileName               218416\n",
       "HelpfulnessNumerator         231\n",
       "HelpfulnessDenominator       234\n",
       "Score                          5\n",
       "Time                        3168\n",
       "Summary                   295742\n",
       "Text                      393579\n",
       "dtype: int64"
      ]
     },
     "execution_count": 5,
     "metadata": {},
     "output_type": "execute_result"
    }
   ],
   "source": [
    "df.nunique() # check num of unique items per column"
   ]
  },
  {
   "cell_type": "code",
   "execution_count": 6,
   "metadata": {
    "colab": {
     "base_uri": "https://localhost:8080/"
    },
    "executionInfo": {
     "elapsed": 269,
     "status": "ok",
     "timestamp": 1647384538715,
     "user": {
      "displayName": "Dennis Wong",
      "photoUrl": "https://lh3.googleusercontent.com/a-/AOh14Ggg69ZOTaAyWErmlR6xHm6FE3BMb8oIjATDFVku=s64",
      "userId": "03509281832183460896"
     },
     "user_tz": 240
    },
    "id": "0zx8KKFRAvSs",
    "outputId": "d37a51e7-0c0f-43f0-9690-f5f586cefc78"
   },
   "outputs": [
    {
     "data": {
      "text/plain": [
       "Index(['Id', 'ProductId', 'UserId', 'ProfileName', 'HelpfulnessNumerator',\n",
       "       'HelpfulnessDenominator', 'Score', 'Time', 'Summary', 'Text'],\n",
       "      dtype='object')"
      ]
     },
     "execution_count": 6,
     "metadata": {},
     "output_type": "execute_result"
    }
   ],
   "source": [
    "df.columns"
   ]
  },
  {
   "cell_type": "code",
   "execution_count": 7,
   "metadata": {
    "executionInfo": {
     "elapsed": 2,
     "status": "ok",
     "timestamp": 1647384540055,
     "user": {
      "displayName": "Dennis Wong",
      "photoUrl": "https://lh3.googleusercontent.com/a-/AOh14Ggg69ZOTaAyWErmlR6xHm6FE3BMb8oIjATDFVku=s64",
      "userId": "03509281832183460896"
     },
     "user_tz": 240
    },
    "id": "kwsXomz6AvSu"
   },
   "outputs": [],
   "source": [
    "# rename columns HelpfulnessNumerator and HelpfulnessDenominator\n",
    "df.columns = [\"Id\", \"ProductId\", \"UserId\", \"ProfileName\", \"VotesHelpful\",\n",
    "              \"VotesTotal\", \"Score\", \"Time\", \"Summary\", \"Text\"]"
   ]
  },
  {
   "cell_type": "markdown",
   "metadata": {
    "id": "IKB92872AvSx"
   },
   "source": [
    "Let's add the **Sentiment** column that turns the numeric score into either *positive* or *negative*.\n",
    "\n",
    "Similarly, the **Usefulness** column turns the number of votes into a boolean."
   ]
  },
  {
   "cell_type": "code",
   "execution_count": 8,
   "metadata": {
    "colab": {
     "base_uri": "https://localhost:8080/",
     "height": 206
    },
    "executionInfo": {
     "elapsed": 411,
     "status": "ok",
     "timestamp": 1647384544316,
     "user": {
      "displayName": "Dennis Wong",
      "photoUrl": "https://lh3.googleusercontent.com/a-/AOh14Ggg69ZOTaAyWErmlR6xHm6FE3BMb8oIjATDFVku=s64",
      "userId": "03509281832183460896"
     },
     "user_tz": 240
    },
    "id": "LfiupeaiAvSx",
    "outputId": "9e054591-e33f-497b-9fa8-6efad7bbeaa3"
   },
   "outputs": [
    {
     "data": {
      "text/html": [
       "<div>\n",
       "<style scoped>\n",
       "    .dataframe tbody tr th:only-of-type {\n",
       "        vertical-align: middle;\n",
       "    }\n",
       "\n",
       "    .dataframe tbody tr th {\n",
       "        vertical-align: top;\n",
       "    }\n",
       "\n",
       "    .dataframe thead th {\n",
       "        text-align: right;\n",
       "    }\n",
       "</style>\n",
       "<table border=\"1\" class=\"dataframe\">\n",
       "  <thead>\n",
       "    <tr style=\"text-align: right;\">\n",
       "      <th></th>\n",
       "      <th>Id</th>\n",
       "      <th>ProductId</th>\n",
       "      <th>UserId</th>\n",
       "      <th>ProfileName</th>\n",
       "      <th>VotesHelpful</th>\n",
       "      <th>VotesTotal</th>\n",
       "      <th>Score</th>\n",
       "      <th>Time</th>\n",
       "      <th>Summary</th>\n",
       "      <th>Text</th>\n",
       "      <th>Sentiment</th>\n",
       "    </tr>\n",
       "  </thead>\n",
       "  <tbody>\n",
       "    <tr>\n",
       "      <th>0</th>\n",
       "      <td>1</td>\n",
       "      <td>B001E4KFG0</td>\n",
       "      <td>A3SGXH7AUHU8GW</td>\n",
       "      <td>delmartian</td>\n",
       "      <td>1</td>\n",
       "      <td>1</td>\n",
       "      <td>5</td>\n",
       "      <td>1303862400</td>\n",
       "      <td>Good Quality Dog Food</td>\n",
       "      <td>I have bought several of the Vitality canned d...</td>\n",
       "      <td>Positive</td>\n",
       "    </tr>\n",
       "    <tr>\n",
       "      <th>1</th>\n",
       "      <td>2</td>\n",
       "      <td>B00813GRG4</td>\n",
       "      <td>A1D87F6ZCVE5NK</td>\n",
       "      <td>dll pa</td>\n",
       "      <td>0</td>\n",
       "      <td>0</td>\n",
       "      <td>1</td>\n",
       "      <td>1346976000</td>\n",
       "      <td>Not as Advertised</td>\n",
       "      <td>Product arrived labeled as Jumbo Salted Peanut...</td>\n",
       "      <td>Negative</td>\n",
       "    </tr>\n",
       "    <tr>\n",
       "      <th>2</th>\n",
       "      <td>3</td>\n",
       "      <td>B000LQOCH0</td>\n",
       "      <td>ABXLMWJIXXAIN</td>\n",
       "      <td>Natalia Corres \"Natalia Corres\"</td>\n",
       "      <td>1</td>\n",
       "      <td>1</td>\n",
       "      <td>4</td>\n",
       "      <td>1219017600</td>\n",
       "      <td>\"Delight\" says it all</td>\n",
       "      <td>This is a confection that has been around a fe...</td>\n",
       "      <td>Positive</td>\n",
       "    </tr>\n",
       "    <tr>\n",
       "      <th>3</th>\n",
       "      <td>4</td>\n",
       "      <td>B000UA0QIQ</td>\n",
       "      <td>A395BORC6FGVXV</td>\n",
       "      <td>Karl</td>\n",
       "      <td>3</td>\n",
       "      <td>3</td>\n",
       "      <td>2</td>\n",
       "      <td>1307923200</td>\n",
       "      <td>Cough Medicine</td>\n",
       "      <td>If you are looking for the secret ingredient i...</td>\n",
       "      <td>Negative</td>\n",
       "    </tr>\n",
       "    <tr>\n",
       "      <th>4</th>\n",
       "      <td>5</td>\n",
       "      <td>B006K2ZZ7K</td>\n",
       "      <td>A1UQRSCLF8GW1T</td>\n",
       "      <td>Michael D. Bigham \"M. Wassir\"</td>\n",
       "      <td>0</td>\n",
       "      <td>0</td>\n",
       "      <td>5</td>\n",
       "      <td>1350777600</td>\n",
       "      <td>Great taffy</td>\n",
       "      <td>Great taffy at a great price.  There was a wid...</td>\n",
       "      <td>Positive</td>\n",
       "    </tr>\n",
       "  </tbody>\n",
       "</table>\n",
       "</div>"
      ],
      "text/plain": [
       "   Id   ProductId          UserId                      ProfileName  \\\n",
       "0   1  B001E4KFG0  A3SGXH7AUHU8GW                       delmartian   \n",
       "1   2  B00813GRG4  A1D87F6ZCVE5NK                           dll pa   \n",
       "2   3  B000LQOCH0   ABXLMWJIXXAIN  Natalia Corres \"Natalia Corres\"   \n",
       "3   4  B000UA0QIQ  A395BORC6FGVXV                             Karl   \n",
       "4   5  B006K2ZZ7K  A1UQRSCLF8GW1T    Michael D. Bigham \"M. Wassir\"   \n",
       "\n",
       "   VotesHelpful  VotesTotal  Score        Time                Summary  \\\n",
       "0             1           1      5  1303862400  Good Quality Dog Food   \n",
       "1             0           0      1  1346976000      Not as Advertised   \n",
       "2             1           1      4  1219017600  \"Delight\" says it all   \n",
       "3             3           3      2  1307923200         Cough Medicine   \n",
       "4             0           0      5  1350777600            Great taffy   \n",
       "\n",
       "                                                Text Sentiment  \n",
       "0  I have bought several of the Vitality canned d...  Positive  \n",
       "1  Product arrived labeled as Jumbo Salted Peanut...  Negative  \n",
       "2  This is a confection that has been around a fe...  Positive  \n",
       "3  If you are looking for the secret ingredient i...  Negative  \n",
       "4  Great taffy at a great price.  There was a wid...  Positive  "
      ]
     },
     "execution_count": 8,
     "metadata": {},
     "output_type": "execute_result"
    }
   ],
   "source": [
    "df[\"Sentiment\"] = df[\"Score\"].apply(lambda score: \"Positive\" if score > 3 else \"Negative\")\n",
    "df.head(5)"
   ]
  },
  {
   "cell_type": "code",
   "execution_count": 9,
   "metadata": {
    "colab": {
     "base_uri": "https://localhost:8080/"
    },
    "executionInfo": {
     "elapsed": 2,
     "status": "ok",
     "timestamp": 1647384547196,
     "user": {
      "displayName": "Dennis Wong",
      "photoUrl": "https://lh3.googleusercontent.com/a-/AOh14Ggg69ZOTaAyWErmlR6xHm6FE3BMb8oIjATDFVku=s64",
      "userId": "03509281832183460896"
     },
     "user_tz": 240
    },
    "id": "GDaD2BeBAvSz",
    "outputId": "5d92fc3e-0f1a-403a-e59b-28f1299c5eb3",
    "scrolled": true
   },
   "outputs": [
    {
     "name": "stdout",
     "output_type": "stream",
     "text": [
      "Positive    443777\n",
      "Negative    124677\n",
      "Name: Sentiment, dtype: int64\n"
     ]
    }
   ],
   "source": [
    "# check some statistics\n",
    "print(df['Sentiment'].value_counts())"
   ]
  },
  {
   "cell_type": "code",
   "execution_count": 10,
   "metadata": {
    "executionInfo": {
     "elapsed": 1222,
     "status": "ok",
     "timestamp": 1647384550744,
     "user": {
      "displayName": "Dennis Wong",
      "photoUrl": "https://lh3.googleusercontent.com/a-/AOh14Ggg69ZOTaAyWErmlR6xHm6FE3BMb8oIjATDFVku=s64",
      "userId": "03509281832183460896"
     },
     "user_tz": 240
    },
    "id": "dW4jxr3sri2y"
   },
   "outputs": [],
   "source": [
    "# clean duplicate rows\n",
    "# remove rows that has duplicate values on UserId, ProfileName, Time, Text\n",
    "final_df = df.drop_duplicates(subset=[\n",
    "  'UserId','ProfileName','Time','Text'\n",
    "])"
   ]
  },
  {
   "cell_type": "code",
   "execution_count": 11,
   "metadata": {
    "colab": {
     "base_uri": "https://localhost:8080/"
    },
    "executionInfo": {
     "elapsed": 268,
     "status": "ok",
     "timestamp": 1647384562752,
     "user": {
      "displayName": "Dennis Wong",
      "photoUrl": "https://lh3.googleusercontent.com/a-/AOh14Ggg69ZOTaAyWErmlR6xHm6FE3BMb8oIjATDFVku=s64",
      "userId": "03509281832183460896"
     },
     "user_tz": 240
    },
    "id": "Y--1H7UluAyC",
    "outputId": "5e4f70b8-0490-495a-988e-88aa0001ff64"
   },
   "outputs": [
    {
     "data": {
      "text/plain": [
       "(393933, 11)"
      ]
     },
     "execution_count": 11,
     "metadata": {},
     "output_type": "execute_result"
    }
   ],
   "source": [
    "final_df.shape"
   ]
  },
  {
   "cell_type": "markdown",
   "metadata": {
    "id": "s64QzNPXAvS1"
   },
   "source": [
    "Select subcolumns"
   ]
  },
  {
   "cell_type": "code",
   "execution_count": 12,
   "metadata": {
    "executionInfo": {
     "elapsed": 464,
     "status": "ok",
     "timestamp": 1647384564550,
     "user": {
      "displayName": "Dennis Wong",
      "photoUrl": "https://lh3.googleusercontent.com/a-/AOh14Ggg69ZOTaAyWErmlR6xHm6FE3BMb8oIjATDFVku=s64",
      "userId": "03509281832183460896"
     },
     "user_tz": 240
    },
    "id": "xtQYk3w4AvS2"
   },
   "outputs": [],
   "source": [
    "final_df = final_df[[\"Score\", \"Sentiment\", \"Summary\", \"Text\"]]"
   ]
  },
  {
   "cell_type": "markdown",
   "metadata": {
    "id": "n-gCAJ76AvS4"
   },
   "source": [
    "Let's have a look at some 5s:"
   ]
  },
  {
   "cell_type": "markdown",
   "metadata": {
    "id": "dmbUSBPiAvS9"
   },
   "source": [
    "And some 1s as well:"
   ]
  },
  {
   "cell_type": "code",
   "execution_count": 13,
   "metadata": {
    "colab": {
     "base_uri": "https://localhost:8080/",
     "height": 206
    },
    "executionInfo": {
     "elapsed": 256,
     "status": "ok",
     "timestamp": 1647384573305,
     "user": {
      "displayName": "Dennis Wong",
      "photoUrl": "https://lh3.googleusercontent.com/a-/AOh14Ggg69ZOTaAyWErmlR6xHm6FE3BMb8oIjATDFVku=s64",
      "userId": "03509281832183460896"
     },
     "user_tz": 240
    },
    "id": "Otl9cqs4TGY8",
    "outputId": "9f4fa1eb-164d-4dd4-c12c-cfbf17292bbe",
    "scrolled": true
   },
   "outputs": [
    {
     "data": {
      "text/html": [
       "<div>\n",
       "<style scoped>\n",
       "    .dataframe tbody tr th:only-of-type {\n",
       "        vertical-align: middle;\n",
       "    }\n",
       "\n",
       "    .dataframe tbody tr th {\n",
       "        vertical-align: top;\n",
       "    }\n",
       "\n",
       "    .dataframe thead th {\n",
       "        text-align: right;\n",
       "    }\n",
       "</style>\n",
       "<table border=\"1\" class=\"dataframe\">\n",
       "  <thead>\n",
       "    <tr style=\"text-align: right;\">\n",
       "      <th></th>\n",
       "      <th>Score</th>\n",
       "      <th>Sentiment</th>\n",
       "      <th>Summary</th>\n",
       "      <th>Text</th>\n",
       "    </tr>\n",
       "  </thead>\n",
       "  <tbody>\n",
       "    <tr>\n",
       "      <th>0</th>\n",
       "      <td>5</td>\n",
       "      <td>Positive</td>\n",
       "      <td>Good Quality Dog Food</td>\n",
       "      <td>I have bought several of the Vitality canned d...</td>\n",
       "    </tr>\n",
       "    <tr>\n",
       "      <th>1</th>\n",
       "      <td>1</td>\n",
       "      <td>Negative</td>\n",
       "      <td>Not as Advertised</td>\n",
       "      <td>Product arrived labeled as Jumbo Salted Peanut...</td>\n",
       "    </tr>\n",
       "    <tr>\n",
       "      <th>2</th>\n",
       "      <td>4</td>\n",
       "      <td>Positive</td>\n",
       "      <td>\"Delight\" says it all</td>\n",
       "      <td>This is a confection that has been around a fe...</td>\n",
       "    </tr>\n",
       "    <tr>\n",
       "      <th>3</th>\n",
       "      <td>2</td>\n",
       "      <td>Negative</td>\n",
       "      <td>Cough Medicine</td>\n",
       "      <td>If you are looking for the secret ingredient i...</td>\n",
       "    </tr>\n",
       "    <tr>\n",
       "      <th>4</th>\n",
       "      <td>5</td>\n",
       "      <td>Positive</td>\n",
       "      <td>Great taffy</td>\n",
       "      <td>Great taffy at a great price.  There was a wid...</td>\n",
       "    </tr>\n",
       "  </tbody>\n",
       "</table>\n",
       "</div>"
      ],
      "text/plain": [
       "   Score Sentiment                Summary  \\\n",
       "0      5  Positive  Good Quality Dog Food   \n",
       "1      1  Negative      Not as Advertised   \n",
       "2      4  Positive  \"Delight\" says it all   \n",
       "3      2  Negative         Cough Medicine   \n",
       "4      5  Positive            Great taffy   \n",
       "\n",
       "                                                Text  \n",
       "0  I have bought several of the Vitality canned d...  \n",
       "1  Product arrived labeled as Jumbo Salted Peanut...  \n",
       "2  This is a confection that has been around a fe...  \n",
       "3  If you are looking for the secret ingredient i...  \n",
       "4  Great taffy at a great price.  There was a wid...  "
      ]
     },
     "execution_count": 13,
     "metadata": {},
     "output_type": "execute_result"
    }
   ],
   "source": [
    "final_df.head()"
   ]
  },
  {
   "cell_type": "code",
   "execution_count": 14,
   "metadata": {
    "colab": {
     "base_uri": "https://localhost:8080/"
    },
    "executionInfo": {
     "elapsed": 253,
     "status": "ok",
     "timestamp": 1647384577473,
     "user": {
      "displayName": "Dennis Wong",
      "photoUrl": "https://lh3.googleusercontent.com/a-/AOh14Ggg69ZOTaAyWErmlR6xHm6FE3BMb8oIjATDFVku=s64",
      "userId": "03509281832183460896"
     },
     "user_tz": 240
    },
    "id": "xGe--kEBkyNc",
    "outputId": "1f4447c3-2207-4ed0-e22c-3c227aee6ae6"
   },
   "outputs": [
    {
     "data": {
      "text/plain": [
       "Score        0\n",
       "Sentiment    0\n",
       "Summary      3\n",
       "Text         0\n",
       "dtype: int64"
      ]
     },
     "execution_count": 14,
     "metadata": {},
     "output_type": "execute_result"
    }
   ],
   "source": [
    "# find missing values 1\n",
    "final_df.isnull().sum()"
   ]
  },
  {
   "cell_type": "code",
   "execution_count": 15,
   "metadata": {
    "executionInfo": {
     "elapsed": 2,
     "status": "ok",
     "timestamp": 1647384581144,
     "user": {
      "displayName": "Dennis Wong",
      "photoUrl": "https://lh3.googleusercontent.com/a-/AOh14Ggg69ZOTaAyWErmlR6xHm6FE3BMb8oIjATDFVku=s64",
      "userId": "03509281832183460896"
     },
     "user_tz": 240
    },
    "id": "NyNO1XQ1lFQa"
   },
   "outputs": [],
   "source": [
    "# filling N/A with space\n",
    "final_df.Summary.fillna(' ',inplace = True)"
   ]
  },
  {
   "cell_type": "code",
   "execution_count": 16,
   "metadata": {
    "colab": {
     "base_uri": "https://localhost:8080/"
    },
    "executionInfo": {
     "elapsed": 2,
     "status": "ok",
     "timestamp": 1647384584903,
     "user": {
      "displayName": "Dennis Wong",
      "photoUrl": "https://lh3.googleusercontent.com/a-/AOh14Ggg69ZOTaAyWErmlR6xHm6FE3BMb8oIjATDFVku=s64",
      "userId": "03509281832183460896"
     },
     "user_tz": 240
    },
    "id": "gqOPYpXblSiY",
    "outputId": "6c597bcd-9128-4c42-8047-3066554de9cd"
   },
   "outputs": [
    {
     "data": {
      "text/plain": [
       "Score        0\n",
       "Sentiment    0\n",
       "Summary      0\n",
       "Text         0\n",
       "dtype: int64"
      ]
     },
     "execution_count": 16,
     "metadata": {},
     "output_type": "execute_result"
    }
   ],
   "source": [
    "# find missing values 2\n",
    "final_df.isnull().sum()"
   ]
  },
  {
   "cell_type": "code",
   "execution_count": 17,
   "metadata": {
    "colab": {
     "base_uri": "https://localhost:8080/",
     "height": 206
    },
    "executionInfo": {
     "elapsed": 3,
     "status": "ok",
     "timestamp": 1647384589238,
     "user": {
      "displayName": "Dennis Wong",
      "photoUrl": "https://lh3.googleusercontent.com/a-/AOh14Ggg69ZOTaAyWErmlR6xHm6FE3BMb8oIjATDFVku=s64",
      "userId": "03509281832183460896"
     },
     "user_tz": 240
    },
    "id": "5uc0E6JbxEpb",
    "outputId": "94402ac0-d226-4837-af0f-45adbe9121ed"
   },
   "outputs": [
    {
     "data": {
      "text/html": [
       "<div>\n",
       "<style scoped>\n",
       "    .dataframe tbody tr th:only-of-type {\n",
       "        vertical-align: middle;\n",
       "    }\n",
       "\n",
       "    .dataframe tbody tr th {\n",
       "        vertical-align: top;\n",
       "    }\n",
       "\n",
       "    .dataframe thead th {\n",
       "        text-align: right;\n",
       "    }\n",
       "</style>\n",
       "<table border=\"1\" class=\"dataframe\">\n",
       "  <thead>\n",
       "    <tr style=\"text-align: right;\">\n",
       "      <th></th>\n",
       "      <th>Score</th>\n",
       "      <th>Sentiment</th>\n",
       "      <th>Summary</th>\n",
       "      <th>Text</th>\n",
       "    </tr>\n",
       "  </thead>\n",
       "  <tbody>\n",
       "    <tr>\n",
       "      <th>0</th>\n",
       "      <td>5</td>\n",
       "      <td>Positive</td>\n",
       "      <td>Good Quality Dog Food</td>\n",
       "      <td>I have bought several of the Vitality canned d...</td>\n",
       "    </tr>\n",
       "    <tr>\n",
       "      <th>1</th>\n",
       "      <td>1</td>\n",
       "      <td>Negative</td>\n",
       "      <td>Not as Advertised</td>\n",
       "      <td>Product arrived labeled as Jumbo Salted Peanut...</td>\n",
       "    </tr>\n",
       "    <tr>\n",
       "      <th>2</th>\n",
       "      <td>4</td>\n",
       "      <td>Positive</td>\n",
       "      <td>\"Delight\" says it all</td>\n",
       "      <td>This is a confection that has been around a fe...</td>\n",
       "    </tr>\n",
       "    <tr>\n",
       "      <th>3</th>\n",
       "      <td>2</td>\n",
       "      <td>Negative</td>\n",
       "      <td>Cough Medicine</td>\n",
       "      <td>If you are looking for the secret ingredient i...</td>\n",
       "    </tr>\n",
       "    <tr>\n",
       "      <th>4</th>\n",
       "      <td>5</td>\n",
       "      <td>Positive</td>\n",
       "      <td>Great taffy</td>\n",
       "      <td>Great taffy at a great price.  There was a wid...</td>\n",
       "    </tr>\n",
       "  </tbody>\n",
       "</table>\n",
       "</div>"
      ],
      "text/plain": [
       "   Score Sentiment                Summary  \\\n",
       "0      5  Positive  Good Quality Dog Food   \n",
       "1      1  Negative      Not as Advertised   \n",
       "2      4  Positive  \"Delight\" says it all   \n",
       "3      2  Negative         Cough Medicine   \n",
       "4      5  Positive            Great taffy   \n",
       "\n",
       "                                                Text  \n",
       "0  I have bought several of the Vitality canned d...  \n",
       "1  Product arrived labeled as Jumbo Salted Peanut...  \n",
       "2  This is a confection that has been around a fe...  \n",
       "3  If you are looking for the secret ingredient i...  \n",
       "4  Great taffy at a great price.  There was a wid...  "
      ]
     },
     "execution_count": 17,
     "metadata": {},
     "output_type": "execute_result"
    }
   ],
   "source": [
    "final_df.head()"
   ]
  },
  {
   "cell_type": "code",
   "execution_count": 18,
   "metadata": {
    "id": "HH-jYcREkWlZ"
   },
   "outputs": [],
   "source": [
    "# text data cleaning\n",
    "import re \n",
    "import nltk\n",
    "# nltk.download('stopwords')\n",
    "# from nltk.corpus import stopwords\n",
    "from nltk.stem.porter import PorterStemmer"
   ]
  },
  {
   "cell_type": "code",
   "execution_count": 19,
   "metadata": {
    "executionInfo": {
     "elapsed": 227666,
     "status": "ok",
     "timestamp": 1647385140563,
     "user": {
      "displayName": "Dennis Wong",
      "photoUrl": "https://lh3.googleusercontent.com/a-/AOh14Ggg69ZOTaAyWErmlR6xHm6FE3BMb8oIjATDFVku=s64",
      "userId": "03509281832183460896"
     },
     "user_tz": 240
    },
    "id": "YCJB9mXfVVXO"
   },
   "outputs": [],
   "source": [
    "def textovector(summary): \n",
    "      # select only text\n",
    "      summary = re.sub('[^a-zA-Z]',' ',str(summary))\n",
    "      summary = re.sub(r\"http\\S+\", \"\", str(summary))\n",
    "      # lower case \n",
    "      summary = summary.lower()\n",
    "      split = summary.split()  \n",
    "      res = [] \n",
    "      for i in split:  \n",
    "    #  remove stopwords & stemmings    \n",
    "    #  not remove stopwords such as 'not','no' which has a siginificant impact on reviews.\n",
    "    #  summary = [PorterStemmer().stem(word) for word in summary if not word in set(stopwords.words('english'))]\n",
    "          res.append(PorterStemmer().stem(i).strip())\n",
    "#           res.append(i)  \n",
    "      res = ' '.join(res)\n",
    "      return res"
   ]
  },
  {
   "cell_type": "code",
   "execution_count": 20,
   "metadata": {},
   "outputs": [
    {
     "name": "stdout",
     "output_type": "stream",
     "text": [
      "not as advertis\n"
     ]
    }
   ],
   "source": [
    "print(textovector(\"Not as Advertised\"))"
   ]
  },
  {
   "cell_type": "code",
   "execution_count": 21,
   "metadata": {},
   "outputs": [],
   "source": [
    "# apply clean up function to values\n",
    "final_df[\"Summary_Clean\"] = final_df[\"Summary\"].apply(textovector)"
   ]
  },
  {
   "cell_type": "code",
   "execution_count": 22,
   "metadata": {
    "scrolled": true
   },
   "outputs": [
    {
     "data": {
      "text/html": [
       "<div>\n",
       "<style scoped>\n",
       "    .dataframe tbody tr th:only-of-type {\n",
       "        vertical-align: middle;\n",
       "    }\n",
       "\n",
       "    .dataframe tbody tr th {\n",
       "        vertical-align: top;\n",
       "    }\n",
       "\n",
       "    .dataframe thead th {\n",
       "        text-align: right;\n",
       "    }\n",
       "</style>\n",
       "<table border=\"1\" class=\"dataframe\">\n",
       "  <thead>\n",
       "    <tr style=\"text-align: right;\">\n",
       "      <th></th>\n",
       "      <th>Score</th>\n",
       "      <th>Sentiment</th>\n",
       "      <th>Summary</th>\n",
       "      <th>Text</th>\n",
       "      <th>Summary_Clean</th>\n",
       "    </tr>\n",
       "  </thead>\n",
       "  <tbody>\n",
       "    <tr>\n",
       "      <th>0</th>\n",
       "      <td>5</td>\n",
       "      <td>Positive</td>\n",
       "      <td>Good Quality Dog Food</td>\n",
       "      <td>I have bought several of the Vitality canned d...</td>\n",
       "      <td>good qualiti dog food</td>\n",
       "    </tr>\n",
       "    <tr>\n",
       "      <th>1</th>\n",
       "      <td>1</td>\n",
       "      <td>Negative</td>\n",
       "      <td>Not as Advertised</td>\n",
       "      <td>Product arrived labeled as Jumbo Salted Peanut...</td>\n",
       "      <td>not as advertis</td>\n",
       "    </tr>\n",
       "    <tr>\n",
       "      <th>2</th>\n",
       "      <td>4</td>\n",
       "      <td>Positive</td>\n",
       "      <td>\"Delight\" says it all</td>\n",
       "      <td>This is a confection that has been around a fe...</td>\n",
       "      <td>delight say it all</td>\n",
       "    </tr>\n",
       "    <tr>\n",
       "      <th>3</th>\n",
       "      <td>2</td>\n",
       "      <td>Negative</td>\n",
       "      <td>Cough Medicine</td>\n",
       "      <td>If you are looking for the secret ingredient i...</td>\n",
       "      <td>cough medicin</td>\n",
       "    </tr>\n",
       "    <tr>\n",
       "      <th>4</th>\n",
       "      <td>5</td>\n",
       "      <td>Positive</td>\n",
       "      <td>Great taffy</td>\n",
       "      <td>Great taffy at a great price.  There was a wid...</td>\n",
       "      <td>great taffi</td>\n",
       "    </tr>\n",
       "  </tbody>\n",
       "</table>\n",
       "</div>"
      ],
      "text/plain": [
       "   Score Sentiment                Summary  \\\n",
       "0      5  Positive  Good Quality Dog Food   \n",
       "1      1  Negative      Not as Advertised   \n",
       "2      4  Positive  \"Delight\" says it all   \n",
       "3      2  Negative         Cough Medicine   \n",
       "4      5  Positive            Great taffy   \n",
       "\n",
       "                                                Text          Summary_Clean  \n",
       "0  I have bought several of the Vitality canned d...  good qualiti dog food  \n",
       "1  Product arrived labeled as Jumbo Salted Peanut...        not as advertis  \n",
       "2  This is a confection that has been around a fe...     delight say it all  \n",
       "3  If you are looking for the secret ingredient i...          cough medicin  \n",
       "4  Great taffy at a great price.  There was a wid...            great taffi  "
      ]
     },
     "execution_count": 22,
     "metadata": {},
     "output_type": "execute_result"
    }
   ],
   "source": [
    "final_df.head()"
   ]
  },
  {
   "cell_type": "code",
   "execution_count": 23,
   "metadata": {},
   "outputs": [],
   "source": [
    "# define dependent and independent variables\n",
    "X = final_df['Summary_Clean']\n",
    "\n",
    "y = final_df['Sentiment']"
   ]
  },
  {
   "cell_type": "code",
   "execution_count": 24,
   "metadata": {},
   "outputs": [],
   "source": [
    "# split the data into training set and a test set.\n",
    "from sklearn.model_selection import train_test_split\n",
    "X_train, X_test, y_train, y_test = train_test_split(X, y, test_size = 0.20, random_state = 42)"
   ]
  },
  {
   "cell_type": "code",
   "execution_count": 25,
   "metadata": {},
   "outputs": [],
   "source": [
    "# Bi-grams & n-grams & TFIDF\n",
    "from sklearn.feature_extraction.text import TfidfTransformer\n",
    "from sklearn.feature_extraction.text import CountVectorizer       "
   ]
  },
  {
   "cell_type": "markdown",
   "metadata": {},
   "source": [
    "## Uni-gram BOW"
   ]
  },
  {
   "cell_type": "code",
   "execution_count": 26,
   "metadata": {},
   "outputs": [],
   "source": [
    "# Uni-gram BOW\n",
    "# Trainning set\n",
    "cv = CountVectorizer()\n",
    "X_train_uni = cv.fit_transform(X_train)    \n",
    "\n",
    "# Testing set\n",
    "X_test_uni = cv.transform(X_test)"
   ]
  },
  {
   "cell_type": "code",
   "execution_count": 27,
   "metadata": {},
   "outputs": [],
   "source": [
    "prediction_uni = dict()"
   ]
  },
  {
   "cell_type": "code",
   "execution_count": 28,
   "metadata": {},
   "outputs": [],
   "source": [
    "# logistic\n",
    "from sklearn.linear_model import LogisticRegression\n",
    "logreg = LogisticRegression(penalty='l2',C=1,max_iter=500)\n",
    "logreg.fit(X_train_uni,y_train)\n",
    "\n",
    "# predicting the results\n",
    "prediction_uni['Logistic'] = logreg.predict(X_test_uni)\n",
    "\n",
    "# # model tuning and selection\n",
    "# from sklearn.model_selection import GridSearchCV\n",
    "# param_grid = [\n",
    "#     {\n",
    "#     'penalty' : ['l1', 'l2'],\n",
    "#     'C' : np.logspace( 4, 20),\n",
    "#     'max_iter' : [400,500]}\n",
    "# ]\n",
    "\n",
    "# # set up the grid search \n",
    "# grid_search = GridSearchCV(logreg, param_grid, cv=5,\n",
    "#                           scoring='accuracy',\n",
    "#                           return_train_score=True,\n",
    "#                           n_jobs=-1)\n",
    "\n",
    "# grid_search = grid_search.fit(X_train_uni, y_train)\n",
    "\n",
    "# print('Best Score: ', grid_search.best_score_)\n",
    "# print('Best Params: ', grid_search.best_params_)\n",
    "\n",
    "# RandomForest\n",
    "from sklearn.ensemble import RandomForestClassifier \n",
    "classifier_rf = RandomForestClassifier(n_estimators = 100, class_weight = 'balanced', n_jobs = -1)\n",
    "classifier_rf.fit(X_train_uni,y_train)\n",
    "\n",
    "# predicting the results\n",
    "prediction_uni['RandomForest'] = classifier_rf.predict(X_test_uni)"
   ]
  },
  {
   "cell_type": "code",
   "execution_count": 29,
   "metadata": {},
   "outputs": [],
   "source": [
    "from sklearn import metrics\n",
    "from sklearn.metrics import plot_roc_curve, roc_curve, auc, accuracy_score, classification_report, confusion_matrix, plot_confusion_matrix\n",
    "import matplotlib.pyplot as plt\n",
    "\n",
    "# change y_test format:'negative' to 0\n",
    "def formatt(x):\n",
    "    if x == 'Negative':\n",
    "        return 0\n",
    "    return 1\n",
    "\n",
    "# plot multiple roc curves\n",
    "def multi_models_roc(names, sampling_methods, colors, X_test, y_test, save=True, dpin=100):\n",
    "        \"\"\"\n",
    "        plor multiple model's roc into one figure\n",
    "        \n",
    "        Args:\n",
    "            names: list, names for multiple models\n",
    "            sampling_methods: list, instantiated objects for multiple models\n",
    "            save: if save(PNG)\n",
    "            \n",
    "        Returns:\n",
    "            return saved PNG\n",
    "        \"\"\"\n",
    "        plt.figure(figsize=(10, 10), dpi=dpin)\n",
    "\n",
    "        for (name, method, colorname) in zip(names, sampling_methods, colors):\n",
    "            \n",
    "            y_test_preds = method.predict(X_test)\n",
    "            y_test_predprob = method.predict_proba(X_test)[:,1]\n",
    "            fpr, tpr, thresholds = roc_curve(y_test.map(formatt), y_test_predprob, pos_label=1)\n",
    "            \n",
    "            plt.plot(fpr, tpr, lw=5, label='{} (AUC={:.3f})'.format(name, auc(fpr, tpr)),color = colorname)\n",
    "            plt.plot([0, 1], [0, 1], '--', lw=5, color = 'grey')\n",
    "            plt.axis('square')\n",
    "            plt.xlim([0, 1])\n",
    "            plt.ylim([0, 1])\n",
    "            plt.xlabel('False Positive Rate',fontsize=10)\n",
    "            plt.ylabel('True Positive Rate',fontsize=10)\n",
    "            plt.title('ROC Curve',fontsize=15)\n",
    "            plt.legend(loc='lower right',fontsize=10)\n",
    "\n",
    "        if save:\n",
    "            plt.savefig('multi_models_roc.png')\n",
    "            \n",
    "        return plt\n"
   ]
  },
  {
   "cell_type": "code",
   "execution_count": 30,
   "metadata": {
    "scrolled": false
   },
   "outputs": [
    {
     "data": {
      "image/png": "[encoded data removed]",
      "text/plain": [
       "<Figure size 1000x1000 with 1 Axes>"
      ]
     },
     "metadata": {
      "needs_background": "light"
     },
     "output_type": "display_data"
    }
   ],
   "source": [
    "# apply roc curve plotting function\n",
    "names = ['Logistic Regression',\n",
    "         'Random Forest']\n",
    "\n",
    "sampling_methods = [logreg,\n",
    "                    classifier_rf,\n",
    "                   ]\n",
    "\n",
    "colors = ['crimson',\n",
    "          'orange',\n",
    "         ]\n",
    "\n",
    "#ROC curves\n",
    "train_roc_graph = multi_models_roc(names, sampling_methods, colors, X_test_uni, y_test, save = False)\n",
    "train_roc_graph.savefig('ROC_Train_all.png')\n"
   ]
  },
  {
   "cell_type": "code",
   "execution_count": 31,
   "metadata": {},
   "outputs": [
    {
     "name": "stdout",
     "output_type": "stream",
     "text": [
      "              precision    recall  f1-score   support\n",
      "\n",
      "    Negative       0.73      0.73      0.73     17476\n",
      "    Positive       0.92      0.92      0.92     61311\n",
      "\n",
      "    accuracy                           0.88     78787\n",
      "   macro avg       0.83      0.83      0.83     78787\n",
      "weighted avg       0.88      0.88      0.88     78787\n",
      "\n",
      "rf_bow_score : 0.8799294299821037\n"
     ]
    }
   ],
   "source": [
    "# randomforest\n",
    "rf_bow_report=classification_report(y_test,prediction_uni['RandomForest'])\n",
    "print(rf_bow_report)\n",
    "\n",
    "#Accuracy score for bag of words\n",
    "rf_bow_score=accuracy_score(y_test,prediction_uni['RandomForest'])\n",
    "print(\"rf_bow_score :\",rf_bow_score)"
   ]
  },
  {
   "cell_type": "markdown",
   "metadata": {},
   "source": [
    "## Bi-gram BOW"
   ]
  },
  {
   "cell_type": "code",
   "execution_count": 32,
   "metadata": {},
   "outputs": [],
   "source": [
    "# Bi-gram BOW\n",
    "# Trainning set\n",
    "bi_gram = CountVectorizer(ngram_range=(1,2), min_df = 5, binary = True) # 1 means the minimum is unigram, 2 means max is bigrams, \n",
    "X_train_bi = bi_gram.fit_transform(X_train)    \n",
    "\n",
    "# Testing set\n",
    "X_test_bi = bi_gram.transform(X_test)"
   ]
  },
  {
   "cell_type": "code",
   "execution_count": 33,
   "metadata": {},
   "outputs": [],
   "source": [
    "prediction_bi = dict()"
   ]
  },
  {
   "cell_type": "code",
   "execution_count": 34,
   "metadata": {},
   "outputs": [],
   "source": [
    "# logistic\n",
    "from sklearn.linear_model import LogisticRegression\n",
    "logreg = LogisticRegression(penalty='l2',C=1,max_iter=500)\n",
    "logreg.fit(X_train_bi,y_train)\n",
    "\n",
    "# predicting the results\n",
    "prediction_bi['Logistic'] = logreg.predict(X_test_bi)\n",
    "\n",
    "# RandomForest\n",
    "from sklearn.ensemble import RandomForestClassifier \n",
    "classifier_rf = RandomForestClassifier(n_estimators = 100, class_weight = 'balanced', n_jobs = -1)\n",
    "classifier_rf.fit(X_train_bi,y_train)\n",
    "\n",
    "# predicting the results\n",
    "prediction_bi['RandomForest'] = classifier_rf.predict(X_test_bi)"
   ]
  },
  {
   "cell_type": "code",
   "execution_count": 35,
   "metadata": {},
   "outputs": [
    {
     "data": {
      "image/png": "[encoded data removed]",
      "text/plain": [
       "<Figure size 1000x1000 with 1 Axes>"
      ]
     },
     "metadata": {
      "needs_background": "light"
     },
     "output_type": "display_data"
    }
   ],
   "source": [
    "# apply roc curve plotting function\n",
    "names = ['Logistic Regression',\n",
    "         'Random Forest']\n",
    "\n",
    "sampling_methods = [logreg,\n",
    "                    classifier_rf,\n",
    "                   ]\n",
    "\n",
    "colors = ['crimson',\n",
    "          'orange',\n",
    "         ]\n",
    "\n",
    "#ROC curves\n",
    "train_roc_graph = multi_models_roc(names, sampling_methods, colors, X_test_bi, y_test, save = False)\n",
    "train_roc_graph.savefig('ROC_Train_all.png')"
   ]
  },
  {
   "cell_type": "code",
   "execution_count": 36,
   "metadata": {},
   "outputs": [
    {
     "name": "stdout",
     "output_type": "stream",
     "text": [
      "              precision    recall  f1-score   support\n",
      "\n",
      "    Negative       0.83      0.69      0.75     17476\n",
      "    Positive       0.91      0.96      0.94     61311\n",
      "\n",
      "    accuracy                           0.90     78787\n",
      "   macro avg       0.87      0.82      0.84     78787\n",
      "weighted avg       0.90      0.90      0.90     78787\n",
      "\n",
      "rf_bow_score : 0.899691573482935\n"
     ]
    }
   ],
   "source": [
    "# logistic\n",
    "lg_bow_report=classification_report(y_test,prediction_bi['Logistic'])\n",
    "print(lg_bow_report)\n",
    "\n",
    "#Accuracy score for bag of words\n",
    "lg_bow_score=accuracy_score(y_test,prediction_bi['Logistic'])\n",
    "print(\"rf_bow_score :\",lg_bow_score)"
   ]
  },
  {
   "cell_type": "markdown",
   "metadata": {},
   "source": [
    "## tf-idf"
   ]
  },
  {
   "cell_type": "code",
   "execution_count": 37,
   "metadata": {},
   "outputs": [],
   "source": [
    "from sklearn.feature_extraction.text import TfidfVectorizer\n",
    "# Trainning set\n",
    "tfidf = TfidfVectorizer(ngram_range=(1,2), min_df = 5)\n",
    "X_train_tfidf = tfidf.fit_transform(X_train)    \n",
    "\n",
    "# Testing set\n",
    "X_test_tfidf = tfidf.transform(X_test)"
   ]
  },
  {
   "cell_type": "code",
   "execution_count": 38,
   "metadata": {},
   "outputs": [],
   "source": [
    "prediction_tfidf = dict()"
   ]
  },
  {
   "cell_type": "code",
   "execution_count": 39,
   "metadata": {},
   "outputs": [],
   "source": [
    "# logistic\n",
    "from sklearn.linear_model import LogisticRegression\n",
    "logreg = LogisticRegression(penalty='l2',C=1,max_iter=500)\n",
    "logreg.fit(X_train_tfidf,y_train)\n",
    "\n",
    "# predicting the results\n",
    "prediction_tfidf['Logistic'] = logreg.predict(X_test_tfidf)\n",
    "\n",
    "# RandomForest\n",
    "from sklearn.ensemble import RandomForestClassifier \n",
    "classifier_rf = RandomForestClassifier(n_estimators = 100, class_weight = 'balanced', n_jobs = -1)\n",
    "classifier_rf.fit(X_train_tfidf,y_train)\n",
    "\n",
    "# predicting the results\n",
    "prediction_tfidf['RandomForest'] = classifier_rf.predict(X_test_tfidf)"
   ]
  },
  {
   "cell_type": "code",
   "execution_count": 40,
   "metadata": {},
   "outputs": [
    {
     "data": {
      "image/png": "[encoded data removed]",
      "text/plain": [
       "<Figure size 1000x1000 with 1 Axes>"
      ]
     },
     "metadata": {
      "needs_background": "light"
     },
     "output_type": "display_data"
    }
   ],
   "source": [
    "# apply roc curve plotting function\n",
    "names = ['Logistic Regression',\n",
    "         'Random Forest']\n",
    "\n",
    "sampling_methods = [logreg,\n",
    "                    classifier_rf,\n",
    "                   ]\n",
    "\n",
    "colors = ['crimson',\n",
    "          'orange',\n",
    "         ]\n",
    "\n",
    "#ROC curves\n",
    "train_roc_graph = multi_models_roc(names, sampling_methods, colors, X_test_tfidf, y_test, save = False)\n",
    "train_roc_graph.savefig('ROC_Train_all.png')"
   ]
  },
  {
   "cell_type": "code",
   "execution_count": 41,
   "metadata": {},
   "outputs": [
    {
     "name": "stdout",
     "output_type": "stream",
     "text": [
      "              precision    recall  f1-score   support\n",
      "\n",
      "    Negative       0.84      0.67      0.75     17476\n",
      "    Positive       0.91      0.96      0.94     61311\n",
      "\n",
      "    accuracy                           0.90     78787\n",
      "   macro avg       0.88      0.82      0.84     78787\n",
      "weighted avg       0.90      0.90      0.89     78787\n",
      "\n",
      "rf_bow_score : 0.8991331057154099\n"
     ]
    }
   ],
   "source": [
    "# logistic\n",
    "tfidf_bow_report=classification_report(y_test,prediction_tfidf['Logistic'])\n",
    "print(tfidf_bow_report)\n",
    "\n",
    "#Accuracy score for bag of words\n",
    "tfidf_bow_score=accuracy_score(y_test,prediction_tfidf['Logistic'])\n",
    "print(\"rf_bow_score :\",tfidf_bow_score)"
   ]
  },
  {
   "cell_type": "code",
   "execution_count": null,
   "metadata": {},
   "outputs": [],
   "source": []
  }
 ],
 "metadata": {
  "accelerator": "GPU",
  "colab": {
   "collapsed_sections": [],
   "machine_shape": "hm",
   "name": "amazon_review_template.ipynb",
   "provenance": []
  },
  "kernelspec": {
   "display_name": "Python 3 (ipykernel)",
   "language": "python",
   "name": "python3"
  },
  "language_info": {
   "codemirror_mode": {
    "name": "ipython",
    "version": 3
   },
   "file_extension": ".py",
   "mimetype": "text/x-python",
   "name": "python",
   "nbconvert_exporter": "python",
   "pygments_lexer": "ipython3",
   "version": "3.9.7"
  }
 },
 "nbformat": 4,
 "nbformat_minor": 1
}
